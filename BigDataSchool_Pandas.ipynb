{
 "cells": [
  {
   "cell_type": "markdown",
   "metadata": {},
   "source": [
    "# ivi Big Data school\n",
    "\n",
    "## Pandas\n",
    "\n",
    "### Получение данных"
   ]
  },
  {
   "cell_type": "code",
   "execution_count": 10,
   "metadata": {
    "collapsed": true
   },
   "outputs": [],
   "source": [
    "import json # читаем конфиги\n",
    "\n",
    "import pandas as pd # гвоздь программы\n",
    "import numpy as np # никогда не помешает немного numpy\n",
    "from pyhive import presto # чтобы забрать данные"
   ]
  },
  {
   "cell_type": "code",
   "execution_count": 7,
   "metadata": {
    "collapsed": false
   },
   "outputs": [
    {
     "name": "stdout",
     "output_type": "stream",
     "text": [
      "data\r\n"
     ]
    }
   ],
   "source": [
    "!mkdir -p ./data\n",
    "!ls | grep data"
   ]
  },
  {
   "cell_type": "code",
   "execution_count": 69,
   "metadata": {
    "collapsed": false
   },
   "outputs": [
    {
     "name": "stdout",
     "output_type": "stream",
     "text": [
      "\"Сырые\" данные:\n",
      "[[827375963, u'Rostelecom', 9966, u'\\u041b\\u0443\\u043d\\u0430', 1400], [890810589, u'LLC TOMTEL', 10140, u'\\u0421\\u043e\\u043b\\u0434\\u0430\\u0442\\u044b', 1271], [929088258, u'OJS Moscow city telephone network', 9572, u'\\u041c\\u0430\\u0436\\u043e\\u0440', 30]]\n"
     ]
    }
   ],
   "source": [
    "sql_string = \"\"\"\n",
    "SELECT\n",
    "\tcw.ivi_id\n",
    "    ,op.name as operator_name\n",
    "\t,CASE WHEN c.compilation_id=898989 THEN c.id ELSE cmp.id END as content_id\n",
    "\t,CASE WHEN c.compilation_id=898989 THEN c.title ELSE cmp.title END as content_title\n",
    "    ,cw.show_duration\n",
    "FROM \n",
    "\tgroot.content_watch cw\n",
    "INNER JOIN groot.content c\n",
    "\ton c.id = cw.content_id\n",
    "INNER JOIN groot.operator op\n",
    "\ton op.id = operator_id\n",
    "LEFT JOIN groot.compilation cmp\n",
    "\ton cmp.id = c.compilation_id\n",
    "WHERE\n",
    "\tdt = '2017-08-01'\n",
    "\tAND subsite_id = 353\n",
    "\tAND NOT cw.ivi_id IS NULL\n",
    "LIMIT 20000\n",
    "\"\"\"\n",
    "\n",
    "# загружаем данные для подключения из конфига\n",
    "with open('../presto_config.json') as f:\n",
    "    config = json.loads(f.read())\n",
    "\n",
    "cursor = presto.connect(host=config[\"PRESTO_HOST\"],\n",
    "                        port=config[\"PRESTO_PORT\"],\n",
    "                        username=config[\"PRESTO_USER\"]).cursor()\n",
    "\n",
    "cursor.execute(sql_string)\n",
    "data = cursor.fetchall()\n",
    "# посмотрим на результат в страшном виде\n",
    "print '\"Сырые\" данные:\\n{}'.format(data[:3])\n",
    "# сохраним в csv\n",
    "with open('./content_watch.csv','w') as f:\n",
    "    for i in data:\n",
    "        f.write('\\t'.join([\n",
    "                    str(j.encode('utf-8')) \n",
    "                    if (type(j)<>int and not j is None)\n",
    "                    else str(j) \n",
    "                for j in i]) + '\\n'\n",
    "        )"
   ]
  },
  {
   "cell_type": "markdown",
   "metadata": {},
   "source": [
    "### Создание pandas DataFrame\n",
    "\n",
    "Фреймы можно создавать двумя как из csv, так и из итерируемой последовательности \"строк\" будущей таблицы"
   ]
  },
  {
   "cell_type": "code",
   "execution_count": 70,
   "metadata": {
    "collapsed": false
   },
   "outputs": [
    {
     "name": "stdout",
     "output_type": "stream",
     "text": [
      "     user_id                      operator_name  content_id content_title  \\\n",
      "0  827375963                         Rostelecom        9966          Луна   \n",
      "1  890810589                         LLC TOMTEL       10140       Солдаты   \n",
      "2  929088258  OJS Moscow city telephone network        9572         Мажор   \n",
      "\n",
      "   show_duration  \n",
      "0         1400.0  \n",
      "1         1271.0  \n",
      "2           30.0  \n",
      "----------\n"
     ]
    },
    {
     "data": {
      "text/html": [
       "<div>\n",
       "<table border=\"1\" class=\"dataframe\">\n",
       "  <thead>\n",
       "    <tr style=\"text-align: right;\">\n",
       "      <th></th>\n",
       "      <th>user_id</th>\n",
       "      <th>operator_name</th>\n",
       "      <th>content_id</th>\n",
       "      <th>content_title</th>\n",
       "      <th>show_duration</th>\n",
       "    </tr>\n",
       "  </thead>\n",
       "  <tbody>\n",
       "    <tr>\n",
       "      <th>0</th>\n",
       "      <td>827375963</td>\n",
       "      <td>Rostelecom</td>\n",
       "      <td>9966</td>\n",
       "      <td>Луна</td>\n",
       "      <td>1400</td>\n",
       "    </tr>\n",
       "    <tr>\n",
       "      <th>1</th>\n",
       "      <td>890810589</td>\n",
       "      <td>LLC TOMTEL</td>\n",
       "      <td>10140</td>\n",
       "      <td>Солдаты</td>\n",
       "      <td>1271</td>\n",
       "    </tr>\n",
       "    <tr>\n",
       "      <th>2</th>\n",
       "      <td>929088258</td>\n",
       "      <td>OJS Moscow city telephone network</td>\n",
       "      <td>9572</td>\n",
       "      <td>Мажор</td>\n",
       "      <td>30</td>\n",
       "    </tr>\n",
       "  </tbody>\n",
       "</table>\n",
       "</div>"
      ],
      "text/plain": [
       "     user_id                      operator_name  content_id content_title  \\\n",
       "0  827375963                         Rostelecom        9966          Луна   \n",
       "1  890810589                         LLC TOMTEL       10140       Солдаты   \n",
       "2  929088258  OJS Moscow city telephone network        9572         Мажор   \n",
       "\n",
       "  show_duration  \n",
       "0          1400  \n",
       "1          1271  \n",
       "2            30  "
      ]
     },
     "execution_count": 70,
     "metadata": {},
     "output_type": "execute_result"
    }
   ],
   "source": [
    "col_names = [\"user_id\", \"operator_name\", \"content_id\", \"content_title\", \"show_duration\"]\n",
    "# создаём фрейм из последовательности\n",
    "df_from_iterable = pd.DataFrame(data, columns=col_names)\n",
    "\n",
    "# читаем из подготовленного csv\n",
    "df = pd.read_csv('./content_watch.csv',\n",
    "                 sep='\\t',\n",
    "                 header=None, # можно не передавать, если в файле есть заголовки столбцов\n",
    "                 names = col_names)\n",
    "\n",
    "#смотрим, что получилось\n",
    "print(df_from_iterable.head(3))\n",
    "print('-'*10)\n",
    "df.head(3)"
   ]
  },
  {
   "cell_type": "markdown",
   "metadata": {},
   "source": [
    "### Первый взгляд на данные\n",
    "\n",
    "вещи, которые пригодятся всегда"
   ]
  },
  {
   "cell_type": "code",
   "execution_count": 74,
   "metadata": {
    "collapsed": false
   },
   "outputs": [
    {
     "name": "stdout",
     "output_type": "stream",
     "text": [
      "(20000, 5)\n",
      "----------\n",
      "Index([u'user_id', u'operator_name', u'content_id', u'content_title',\n",
      "       u'show_duration'],\n",
      "      dtype='object')\n",
      "----------\n",
      "<class 'pandas.core.frame.DataFrame'>\n",
      "RangeIndex: 20000 entries, 0 to 19999\n",
      "Data columns (total 5 columns):\n",
      "user_id          20000 non-null object\n",
      "operator_name    20000 non-null object\n",
      "content_id       20000 non-null object\n",
      "content_title    20000 non-null object\n",
      "show_duration    20000 non-null object\n",
      "dtypes: object(5)\n",
      "memory usage: 781.3+ KB\n",
      "None\n"
     ]
    },
    {
     "data": {
      "text/html": [
       "<div>\n",
       "<table border=\"1\" class=\"dataframe\">\n",
       "  <thead>\n",
       "    <tr style=\"text-align: right;\">\n",
       "      <th></th>\n",
       "      <th>user_id</th>\n",
       "      <th>operator_name</th>\n",
       "      <th>content_id</th>\n",
       "      <th>content_title</th>\n",
       "      <th>show_duration</th>\n",
       "    </tr>\n",
       "  </thead>\n",
       "  <tbody>\n",
       "    <tr>\n",
       "      <th>count</th>\n",
       "      <td>20000</td>\n",
       "      <td>20000</td>\n",
       "      <td>20000</td>\n",
       "      <td>20000</td>\n",
       "      <td>20000</td>\n",
       "    </tr>\n",
       "    <tr>\n",
       "      <th>unique</th>\n",
       "      <td>10418</td>\n",
       "      <td>576</td>\n",
       "      <td>1163</td>\n",
       "      <td>1155</td>\n",
       "      <td>2901</td>\n",
       "    </tr>\n",
       "    <tr>\n",
       "      <th>top</th>\n",
       "      <td>547441836</td>\n",
       "      <td>Rostelecom</td>\n",
       "      <td>7305</td>\n",
       "      <td>Мастер и Маргарита</td>\n",
       "      <td>None</td>\n",
       "    </tr>\n",
       "    <tr>\n",
       "      <th>freq</th>\n",
       "      <td>66</td>\n",
       "      <td>5233</td>\n",
       "      <td>1972</td>\n",
       "      <td>1972</td>\n",
       "      <td>2072</td>\n",
       "    </tr>\n",
       "  </tbody>\n",
       "</table>\n",
       "</div>"
      ],
      "text/plain": [
       "          user_id operator_name  content_id       content_title show_duration\n",
       "count       20000         20000       20000               20000         20000\n",
       "unique      10418           576        1163                1155          2901\n",
       "top     547441836    Rostelecom        7305  Мастер и Маргарита          None\n",
       "freq           66          5233        1972                1972          2072"
      ]
     },
     "execution_count": 74,
     "metadata": {},
     "output_type": "execute_result"
    }
   ],
   "source": [
    "print(df.shape) # размерность таблички\n",
    "print('-'*10)\n",
    "print(df.columns) # имена колонок\n",
    "print('-'*10)\n",
    "print(df.info()) # информация о типах данных\n",
    "df.describe() # можно передать include=['object'] чтобы посчитать статиcтику по категориальным признакам"
   ]
  },
  {
   "cell_type": "code",
   "execution_count": 79,
   "metadata": {
    "collapsed": false
   },
   "outputs": [],
   "source": [
    "# Тип колонки Pandas вычисляет автоматически - можно поменять на более актуальный\n",
    "df['content_id'] = df['content_id'].astype('object')\n",
    "df['user_id'] = df['user_id'].astype('object')"
   ]
  },
  {
   "cell_type": "markdown",
   "metadata": {},
   "source": [
    "#### Доступ к данным\n",
    "\n",
    "как брать различные срезы данных"
   ]
  },
  {
   "cell_type": "code",
   "execution_count": 104,
   "metadata": {
    "collapsed": false
   },
   "outputs": [
    {
     "data": {
      "text/html": [
       "<div>\n",
       "<table border=\"1\" class=\"dataframe\">\n",
       "  <thead>\n",
       "    <tr style=\"text-align: right;\">\n",
       "      <th></th>\n",
       "      <th>user_id</th>\n",
       "      <th>content_id</th>\n",
       "    </tr>\n",
       "  </thead>\n",
       "  <tbody>\n",
       "    <tr>\n",
       "      <th>0</th>\n",
       "      <td>827375963</td>\n",
       "      <td>9966</td>\n",
       "    </tr>\n",
       "    <tr>\n",
       "      <th>1</th>\n",
       "      <td>890810589</td>\n",
       "      <td>10140</td>\n",
       "    </tr>\n",
       "    <tr>\n",
       "      <th>2</th>\n",
       "      <td>929088258</td>\n",
       "      <td>9572</td>\n",
       "    </tr>\n",
       "  </tbody>\n",
       "</table>\n",
       "</div>"
      ],
      "text/plain": [
       "     user_id content_id\n",
       "0  827375963       9966\n",
       "1  890810589      10140\n",
       "2  929088258       9572"
      ]
     },
     "execution_count": 104,
     "metadata": {},
     "output_type": "execute_result"
    }
   ],
   "source": [
    "# Срез по колонкам \n",
    "col_slice = ['user_id', 'content_id']\n",
    "df[col_slice].head(3)"
   ]
  },
  {
   "cell_type": "code",
   "execution_count": 117,
   "metadata": {
    "collapsed": false
   },
   "outputs": [
    {
     "data": {
      "text/html": [
       "<div>\n",
       "<table border=\"1\" class=\"dataframe\">\n",
       "  <thead>\n",
       "    <tr style=\"text-align: right;\">\n",
       "      <th></th>\n",
       "      <th>user_id</th>\n",
       "      <th>content_id</th>\n",
       "    </tr>\n",
       "  </thead>\n",
       "  <tbody>\n",
       "    <tr>\n",
       "      <th>4</th>\n",
       "      <td>573841374</td>\n",
       "      <td>9983</td>\n",
       "    </tr>\n",
       "    <tr>\n",
       "      <th>2</th>\n",
       "      <td>929088258</td>\n",
       "      <td>9572</td>\n",
       "    </tr>\n",
       "  </tbody>\n",
       "</table>\n",
       "</div>"
      ],
      "text/plain": [
       "     user_id content_id\n",
       "4  573841374       9983\n",
       "2  929088258       9572"
      ]
     },
     "execution_count": 117,
     "metadata": {},
     "output_type": "execute_result"
    }
   ],
   "source": [
    "# loc - индексация, основаная на названиях\n",
    "# [start:end:step] - можно менять порядок в выдаче\n",
    "df.loc[4:2:-2,col_slice]\n",
    "# Индексы строк сейчас имеют целочисленный тип, но так будет не всегда\n",
    "# df.loc[2:4, [0,2] ] - вызовет TypeError, т.к. для .loc колонки 2 не существует"
   ]
  },
  {
   "cell_type": "code",
   "execution_count": 118,
   "metadata": {
    "collapsed": false
   },
   "outputs": [
    {
     "data": {
      "text/html": [
       "<div>\n",
       "<table border=\"1\" class=\"dataframe\">\n",
       "  <thead>\n",
       "    <tr style=\"text-align: right;\">\n",
       "      <th></th>\n",
       "      <th>content_id</th>\n",
       "      <th>content_title</th>\n",
       "    </tr>\n",
       "  </thead>\n",
       "  <tbody>\n",
       "    <tr>\n",
       "      <th>4</th>\n",
       "      <td>9983</td>\n",
       "      <td>Метод</td>\n",
       "    </tr>\n",
       "  </tbody>\n",
       "</table>\n",
       "</div>"
      ],
      "text/plain": [
       "  content_id content_title\n",
       "4       9983         Метод"
      ]
     },
     "execution_count": 118,
     "metadata": {},
     "output_type": "execute_result"
    }
   ],
   "source": [
    "# для индексации по числовым индексам - iloc\n",
    "df.iloc[4:2:-2, [2,3]]\n",
    "# загадка - сколько строк будет в выводе?"
   ]
  },
  {
   "cell_type": "markdown",
   "metadata": {},
   "source": [
    "### Очистка данных\n",
    "\n",
    "\"Сырые\" данные напрямую из источников плохо пригодны для анализа. Очистить и подготовить данные можно с помощью Pаndas"
   ]
  },
  {
   "cell_type": "code",
   "execution_count": 94,
   "metadata": {
    "collapsed": false
   },
   "outputs": [
    {
     "name": "stdout",
     "output_type": "stream",
     "text": [
      "None    2072\n",
      "9        481\n",
      "6        462\n",
      "60       354\n",
      "2        303\n",
      "Name: show_duration, dtype: int64\n",
      "Доля None в колонке show_duration = 0.1036\n"
     ]
    }
   ],
   "source": [
    "# Почему show_duration имеет тип object?\n",
    "print (df['show_duration'].value_counts().head(5)) # простая метрика - счётчик элементов. Считаем просмотры контента\n",
    "# normalize=True - посчитаем доли объектов вместо абсолютных значений\n",
    "print (\"Доля None в колонке show_duration = {}\".format(\n",
    "        df['show_duration'].value_counts(normalize=True).head(1).values[0]))"
   ]
  },
  {
   "cell_type": "code",
   "execution_count": 120,
   "metadata": {
    "collapsed": false
   },
   "outputs": [],
   "source": [
    "# Поменяем значение к колонке с помощью уже изученного loc - аналогично конструкции WHERE в SQL\n",
    "df.loc[df['show_duration']=='None', 'show_duration'] = 0\n",
    "# домашнее задание - сделать с помощью  другого метода pandas.DataFarame\n",
    "df[df['show_duration']=='None'].head(5)"
   ]
  },
  {
   "cell_type": "code",
   "execution_count": 139,
   "metadata": {
    "collapsed": false
   },
   "outputs": [
    {
     "data": {
      "text/html": [
       "<div>\n",
       "<table border=\"1\" class=\"dataframe\">\n",
       "  <thead>\n",
       "    <tr style=\"text-align: right;\">\n",
       "      <th></th>\n",
       "      <th>user_id</th>\n",
       "      <th>operator_name</th>\n",
       "      <th>content_id</th>\n",
       "      <th>content_title</th>\n",
       "      <th>show_duration</th>\n",
       "    </tr>\n",
       "  </thead>\n",
       "  <tbody>\n",
       "    <tr>\n",
       "      <th>5943</th>\n",
       "      <td>7029</td>\n",
       "      <td>7029</td>\n",
       "      <td>7029</td>\n",
       "      <td>7029</td>\n",
       "      <td>7029</td>\n",
       "    </tr>\n",
       "    <tr>\n",
       "      <th>5946</th>\n",
       "      <td>7029</td>\n",
       "      <td>7029</td>\n",
       "      <td>7029</td>\n",
       "      <td>7029</td>\n",
       "      <td>7029</td>\n",
       "    </tr>\n",
       "    <tr>\n",
       "      <th>5947</th>\n",
       "      <td>7029</td>\n",
       "      <td>7029</td>\n",
       "      <td>7029</td>\n",
       "      <td>7029</td>\n",
       "      <td>7029</td>\n",
       "    </tr>\n",
       "  </tbody>\n",
       "</table>\n",
       "</div>"
      ],
      "text/plain": [
       "     user_id operator_name content_id content_title show_duration\n",
       "5943    7029          7029       7029          7029          7029\n",
       "5946    7029          7029       7029          7029          7029\n",
       "5947    7029          7029       7029          7029          7029"
      ]
     },
     "execution_count": 139,
     "metadata": {},
     "output_type": "execute_result"
    }
   ],
   "source": [
    "# другой способ получить логический срез\n",
    "df[df['content_id']==7029].head(3)\n",
    "# df[df['content_id']==7029]['content_id'] = 7029 - так тоже попробуйте"
   ]
  },
  {
   "cell_type": "code",
   "execution_count": 141,
   "metadata": {
    "collapsed": false
   },
   "outputs": [
    {
     "data": {
      "text/html": [
       "<div>\n",
       "<table border=\"1\" class=\"dataframe\">\n",
       "  <thead>\n",
       "    <tr style=\"text-align: right;\">\n",
       "      <th></th>\n",
       "      <th>user_id</th>\n",
       "      <th>operator_name</th>\n",
       "      <th>content_id</th>\n",
       "      <th>content_title</th>\n",
       "      <th>show_duration</th>\n",
       "    </tr>\n",
       "  </thead>\n",
       "  <tbody>\n",
       "  </tbody>\n",
       "</table>\n",
       "</div>"
      ],
      "text/plain": [
       "Empty DataFrame\n",
       "Columns: [user_id, operator_name, content_id, content_title, show_duration]\n",
       "Index: []"
      ]
     },
     "execution_count": 141,
     "metadata": {},
     "output_type": "execute_result"
    }
   ],
   "source": [
    "# быстрый способ удалить строки\n",
    "df = df[df['content_id']!=7029]\n",
    "df[df['content_id']==7029].head(3)"
   ]
  },
  {
   "cell_type": "code",
   "execution_count": null,
   "metadata": {
    "collapsed": true
   },
   "outputs": [],
   "source": [
    "# Аггрегаты можно вычислять по столбцам"
   ]
  }
 ],
 "metadata": {
  "kernelspec": {
   "display_name": "Python 2",
   "language": "python",
   "name": "python2"
  },
  "language_info": {
   "codemirror_mode": {
    "name": "ipython",
    "version": 2
   },
   "file_extension": ".py",
   "mimetype": "text/x-python",
   "name": "python",
   "nbconvert_exporter": "python",
   "pygments_lexer": "ipython2",
   "version": "2.7.12"
  }
 },
 "nbformat": 4,
 "nbformat_minor": 1
}
