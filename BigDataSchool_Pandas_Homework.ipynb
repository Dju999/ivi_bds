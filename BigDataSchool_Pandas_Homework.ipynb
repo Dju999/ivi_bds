{
 "cells": [
  {
   "cell_type": "markdown",
   "metadata": {},
   "source": [
    "# ivi Big Data school\n",
    "\n",
    "## Pandas\n",
    "\n",
    "### Получение данных"
   ]
  },
  {
   "cell_type": "code",
   "execution_count": 1,
   "metadata": {
    "collapsed": false
   },
   "outputs": [],
   "source": [
    "import json # читаем конфиги\n",
    "\n",
    "import pandas as pd # гвоздь программы\n",
    "import numpy as np # никогда не помешает немного numpy\n",
    "from pyhive import presto # чтобы забрать данные"
   ]
  },
  {
   "cell_type": "code",
   "execution_count": 2,
   "metadata": {
    "collapsed": false
   },
   "outputs": [],
   "source": [
    "# визуализация\n",
    "%matplotlib inline"
   ]
  },
  {
   "cell_type": "markdown",
   "metadata": {},
   "source": [
    "### Создание pandas DataFrame\n",
    "\n",
    "Фреймы можно создавать двумя как из csv, так и из итерируемой последовательности \"строк\" будущей таблицы"
   ]
  },
  {
   "cell_type": "code",
   "execution_count": 6,
   "metadata": {
    "collapsed": false
   },
   "outputs": [
    {
     "name": "stdout",
     "output_type": "stream",
     "text": [
      "----------\n"
     ]
    },
    {
     "data": {
      "text/html": [
       "<div>\n",
       "<table border=\"1\" class=\"dataframe\">\n",
       "  <thead>\n",
       "    <tr style=\"text-align: right;\">\n",
       "      <th></th>\n",
       "      <th>user_id</th>\n",
       "      <th>operator_name</th>\n",
       "      <th>content_id</th>\n",
       "      <th>content_title</th>\n",
       "      <th>show_duration</th>\n",
       "    </tr>\n",
       "  </thead>\n",
       "  <tbody>\n",
       "    <tr>\n",
       "      <th>0</th>\n",
       "      <td>827375963</td>\n",
       "      <td>Rostelecom</td>\n",
       "      <td>9966</td>\n",
       "      <td>Луна</td>\n",
       "      <td>1400</td>\n",
       "    </tr>\n",
       "    <tr>\n",
       "      <th>1</th>\n",
       "      <td>890810589</td>\n",
       "      <td>LLC TOMTEL</td>\n",
       "      <td>10140</td>\n",
       "      <td>Солдаты</td>\n",
       "      <td>1271</td>\n",
       "    </tr>\n",
       "    <tr>\n",
       "      <th>2</th>\n",
       "      <td>929088258</td>\n",
       "      <td>OJS Moscow city telephone network</td>\n",
       "      <td>9572</td>\n",
       "      <td>Мажор</td>\n",
       "      <td>30</td>\n",
       "    </tr>\n",
       "  </tbody>\n",
       "</table>\n",
       "</div>"
      ],
      "text/plain": [
       "     user_id                      operator_name  content_id content_title  \\\n",
       "0  827375963                         Rostelecom        9966          Луна   \n",
       "1  890810589                         LLC TOMTEL       10140       Солдаты   \n",
       "2  929088258  OJS Moscow city telephone network        9572         Мажор   \n",
       "\n",
       "  show_duration  \n",
       "0          1400  \n",
       "1          1271  \n",
       "2            30  "
      ]
     },
     "execution_count": 6,
     "metadata": {},
     "output_type": "execute_result"
    }
   ],
   "source": [
    "col_names = [\"user_id\", \"operator_name\", \"content_id\", \"content_title\", \"show_duration\"]\n",
    "# создаём фрейм из последовательности\n",
    "#df_from_iterable = pd.DataFrame(data, columns=col_names)\n",
    "#print(df_from_iterable.head(3))\n",
    "\n",
    "# читаем из подготовленного csv\n",
    "df = pd.read_csv('../content_watch.csv',\n",
    "                 sep='\\t',\n",
    "                 header=None, # можно не передавать, если в файле есть заголовки столбцов\n",
    "                 names = col_names)\n",
    "\n",
    "#смотрим, что получилось\n",
    "print('-'*10)\n",
    "df.head(3)"
   ]
  },
  {
   "cell_type": "markdown",
   "metadata": {},
   "source": [
    "Pandas - библиотека для работы с табличными данными, основные объекты Series (одномерный массив элементов фиксированного типа) и DataFrame (двумерный массив, тип данных однороден по колонкам)\n",
    "\n",
    "### Первый взгляд на данные\n",
    "\n",
    "вещи, которые пригодятся всегда"
   ]
  },
  {
   "cell_type": "code",
   "execution_count": 7,
   "metadata": {
    "collapsed": false
   },
   "outputs": [
    {
     "name": "stdout",
     "output_type": "stream",
     "text": [
      "(20000, 5)\n",
      "----------\n",
      "Index([u'user_id', u'operator_name', u'content_id', u'content_title',\n",
      "       u'show_duration'],\n",
      "      dtype='object')\n",
      "----------\n",
      "<class 'pandas.core.frame.DataFrame'>\n",
      "RangeIndex: 20000 entries, 0 to 19999\n",
      "Data columns (total 5 columns):\n",
      "user_id          20000 non-null int64\n",
      "operator_name    20000 non-null object\n",
      "content_id       20000 non-null int64\n",
      "content_title    20000 non-null object\n",
      "show_duration    20000 non-null object\n",
      "dtypes: int64(2), object(3)\n",
      "memory usage: 781.3+ KB\n",
      "None\n"
     ]
    },
    {
     "data": {
      "text/html": [
       "<div>\n",
       "<table border=\"1\" class=\"dataframe\">\n",
       "  <thead>\n",
       "    <tr style=\"text-align: right;\">\n",
       "      <th></th>\n",
       "      <th>user_id</th>\n",
       "      <th>content_id</th>\n",
       "    </tr>\n",
       "  </thead>\n",
       "  <tbody>\n",
       "    <tr>\n",
       "      <th>count</th>\n",
       "      <td>2.000000e+04</td>\n",
       "      <td>20000.000000</td>\n",
       "    </tr>\n",
       "    <tr>\n",
       "      <th>mean</th>\n",
       "      <td>8.652511e+08</td>\n",
       "      <td>17391.642800</td>\n",
       "    </tr>\n",
       "    <tr>\n",
       "      <th>std</th>\n",
       "      <td>1.681163e+08</td>\n",
       "      <td>32636.639667</td>\n",
       "    </tr>\n",
       "    <tr>\n",
       "      <th>min</th>\n",
       "      <td>4.642900e+04</td>\n",
       "      <td>949.000000</td>\n",
       "    </tr>\n",
       "    <tr>\n",
       "      <th>50%</th>\n",
       "      <td>9.266323e+08</td>\n",
       "      <td>9525.000000</td>\n",
       "    </tr>\n",
       "    <tr>\n",
       "      <th>max</th>\n",
       "      <td>1.010558e+09</td>\n",
       "      <td>191504.000000</td>\n",
       "    </tr>\n",
       "  </tbody>\n",
       "</table>\n",
       "</div>"
      ],
      "text/plain": [
       "            user_id     content_id\n",
       "count  2.000000e+04   20000.000000\n",
       "mean   8.652511e+08   17391.642800\n",
       "std    1.681163e+08   32636.639667\n",
       "min    4.642900e+04     949.000000\n",
       "50%    9.266323e+08    9525.000000\n",
       "max    1.010558e+09  191504.000000"
      ]
     },
     "execution_count": 7,
     "metadata": {},
     "output_type": "execute_result"
    }
   ],
   "source": [
    "print(df.shape) # размерность таблички\n",
    "print('-'*10)\n",
    "print(df.columns) # имена колонок\n",
    "print('-'*10)\n",
    "print(df.info()) # информация о типах данных\n",
    "# можно передать include=['object'] чтобы посчитать статиcтику по категориальным признакам\n",
    "df.describe(percentiles=[])"
   ]
  },
  {
   "cell_type": "code",
   "execution_count": 8,
   "metadata": {
    "collapsed": true
   },
   "outputs": [],
   "source": [
    "# Тип колонки Pandas вычисляет автоматически - можно поменять на более актуальный\n",
    "df['content_id'] = df['content_id'].astype('object')\n",
    "df['user_id'] = df['user_id'].astype('object')"
   ]
  },
  {
   "cell_type": "code",
   "execution_count": 122,
   "metadata": {
    "collapsed": false
   },
   "outputs": [
    {
     "data": {
      "text/html": [
       "<div>\n",
       "<table border=\"1\" class=\"dataframe\">\n",
       "  <thead>\n",
       "    <tr style=\"text-align: right;\">\n",
       "      <th></th>\n",
       "      <th>user_id</th>\n",
       "      <th>operator_name</th>\n",
       "      <th>content_id</th>\n",
       "      <th>content_title</th>\n",
       "      <th>show_duration</th>\n",
       "    </tr>\n",
       "  </thead>\n",
       "  <tbody>\n",
       "    <tr>\n",
       "      <th>22</th>\n",
       "      <td>844887993</td>\n",
       "      <td>OJSC Rostelecom, Vladimir branch</td>\n",
       "      <td>9797</td>\n",
       "      <td>Новые приключения Винни Пуха</td>\n",
       "      <td>None</td>\n",
       "    </tr>\n",
       "    <tr>\n",
       "      <th>31</th>\n",
       "      <td>767944789</td>\n",
       "      <td>OJSC RITC</td>\n",
       "      <td>9983</td>\n",
       "      <td>Метод</td>\n",
       "      <td>None</td>\n",
       "    </tr>\n",
       "    <tr>\n",
       "      <th>33</th>\n",
       "      <td>657807868</td>\n",
       "      <td>OJS Moscow city telephone network</td>\n",
       "      <td>10939</td>\n",
       "      <td>Район тьмы</td>\n",
       "      <td>None</td>\n",
       "    </tr>\n",
       "  </tbody>\n",
       "</table>\n",
       "</div>"
      ],
      "text/plain": [
       "      user_id                      operator_name  content_id  \\\n",
       "22  844887993   OJSC Rostelecom, Vladimir branch        9797   \n",
       "31  767944789                          OJSC RITC        9983   \n",
       "33  657807868  OJS Moscow city telephone network       10939   \n",
       "\n",
       "                   content_title show_duration  \n",
       "22  Новые приключения Винни Пуха          None  \n",
       "31                         Метод          None  \n",
       "33                    Район тьмы          None  "
      ]
     },
     "execution_count": 122,
     "metadata": {},
     "output_type": "execute_result"
    }
   ],
   "source": [
    "# сортировка данных - указать столбец сортировки\n",
    "# можно так же указать несколько столбцов (составной ключ)\n",
    "df.sort_values(by = 'show_duration', ascending=False).head(3)"
   ]
  },
  {
   "cell_type": "markdown",
   "metadata": {},
   "source": [
    "#### Доступ к данным\n",
    "\n",
    "как брать различные срезы данных"
   ]
  },
  {
   "cell_type": "code",
   "execution_count": 9,
   "metadata": {
    "collapsed": false
   },
   "outputs": [
    {
     "data": {
      "text/html": [
       "<div>\n",
       "<table border=\"1\" class=\"dataframe\">\n",
       "  <thead>\n",
       "    <tr style=\"text-align: right;\">\n",
       "      <th></th>\n",
       "      <th>user_id</th>\n",
       "      <th>content_id</th>\n",
       "    </tr>\n",
       "  </thead>\n",
       "  <tbody>\n",
       "    <tr>\n",
       "      <th>0</th>\n",
       "      <td>827375963</td>\n",
       "      <td>9966</td>\n",
       "    </tr>\n",
       "    <tr>\n",
       "      <th>1</th>\n",
       "      <td>890810589</td>\n",
       "      <td>10140</td>\n",
       "    </tr>\n",
       "    <tr>\n",
       "      <th>2</th>\n",
       "      <td>929088258</td>\n",
       "      <td>9572</td>\n",
       "    </tr>\n",
       "  </tbody>\n",
       "</table>\n",
       "</div>"
      ],
      "text/plain": [
       "     user_id content_id\n",
       "0  827375963       9966\n",
       "1  890810589      10140\n",
       "2  929088258       9572"
      ]
     },
     "execution_count": 9,
     "metadata": {},
     "output_type": "execute_result"
    }
   ],
   "source": [
    "# Срез по колонкам \n",
    "col_slice = ['user_id', 'content_id']\n",
    "# head - сколько строк DataFrame показать\n",
    "df[col_slice].head(3)"
   ]
  },
  {
   "cell_type": "code",
   "execution_count": 10,
   "metadata": {
    "collapsed": false
   },
   "outputs": [
    {
     "data": {
      "text/html": [
       "<div>\n",
       "<table border=\"1\" class=\"dataframe\">\n",
       "  <thead>\n",
       "    <tr style=\"text-align: right;\">\n",
       "      <th></th>\n",
       "      <th>user_id</th>\n",
       "      <th>content_id</th>\n",
       "    </tr>\n",
       "  </thead>\n",
       "  <tbody>\n",
       "    <tr>\n",
       "      <th>4</th>\n",
       "      <td>573841374</td>\n",
       "      <td>9983</td>\n",
       "    </tr>\n",
       "    <tr>\n",
       "      <th>2</th>\n",
       "      <td>929088258</td>\n",
       "      <td>9572</td>\n",
       "    </tr>\n",
       "  </tbody>\n",
       "</table>\n",
       "</div>"
      ],
      "text/plain": [
       "     user_id content_id\n",
       "4  573841374       9983\n",
       "2  929088258       9572"
      ]
     },
     "execution_count": 10,
     "metadata": {},
     "output_type": "execute_result"
    }
   ],
   "source": [
    "# loc - индексация, основаная на названиях\n",
    "# для slice используется стандартный синтаксис обхода питоновских коллекций START:END:STEP \n",
    "# отрицательный step - \"листаем\" в обратном порядке\n",
    "df.loc[4:2:-2,col_slice]\n",
    "# Индексы строк сейчас имеют целочисленный тип, но так будет не всегда\n",
    "# df.loc[2:4, [0,2] ] - вызовет TypeError, т.к. для .loc колонки 2 не существует"
   ]
  },
  {
   "cell_type": "code",
   "execution_count": 11,
   "metadata": {
    "collapsed": false
   },
   "outputs": [
    {
     "data": {
      "text/html": [
       "<div>\n",
       "<table border=\"1\" class=\"dataframe\">\n",
       "  <thead>\n",
       "    <tr style=\"text-align: right;\">\n",
       "      <th></th>\n",
       "      <th>content_id</th>\n",
       "      <th>content_title</th>\n",
       "    </tr>\n",
       "  </thead>\n",
       "  <tbody>\n",
       "    <tr>\n",
       "      <th>4</th>\n",
       "      <td>9983</td>\n",
       "      <td>Метод</td>\n",
       "    </tr>\n",
       "  </tbody>\n",
       "</table>\n",
       "</div>"
      ],
      "text/plain": [
       "  content_id content_title\n",
       "4       9983         Метод"
      ]
     },
     "execution_count": 11,
     "metadata": {},
     "output_type": "execute_result"
    }
   ],
   "source": [
    "# для индексации по числовым индексам - iloc\n",
    "df.iloc[4:2:-2, [2,3]]\n",
    "# загадка - сколько строк будет в выводе?"
   ]
  },
  {
   "cell_type": "markdown",
   "metadata": {},
   "source": [
    "### Очистка данных\n",
    "\n",
    "\"Сырые\" данные напрямую из источников плохо пригодны для анализа. Очистить и подготовить данные можно с помощью Pаndas\n",
    "\n",
    ".value_counts() - счетчик вхождения элементов в pandas.Series"
   ]
  },
  {
   "cell_type": "code",
   "execution_count": 12,
   "metadata": {
    "collapsed": false,
    "scrolled": true
   },
   "outputs": [
    {
     "name": "stdout",
     "output_type": "stream",
     "text": [
      "None    2072\n",
      "9        481\n",
      "6        462\n",
      "60       354\n",
      "2        303\n",
      "Name: show_duration, dtype: int64\n",
      "Доля None в колонке show_duration = 0.1036\n"
     ]
    }
   ],
   "source": [
    "# Почему show_duration имеет тип object?\n",
    "print (df['show_duration'].value_counts().head(5)) # простая метрика - счётчик элементов. Считаем просмотры контента\n",
    "# normalize=True - посчитаем доли объектов вместо абсолютных значений\n",
    "print (\"Доля None в колонке show_duration = {}\".format(\n",
    "        df['show_duration'].value_counts(normalize=True).head(1).values[0]))"
   ]
  },
  {
   "cell_type": "code",
   "execution_count": 20,
   "metadata": {
    "collapsed": false
   },
   "outputs": [],
   "source": [
    "# Поменяем значение к колонке с помощью уже изученного loc - аналогично конструкции WHERE в SQL\n",
    "df.loc[df['show_duration']=='None', 'show_duration'] = 0\n",
    "# домашнее задание - сделать с помощью  другого метода pandas.DataFarame\n",
    "df[df['show_duration']=='None'].head(5)\n",
    "df['show_duration'] = df['show_duration'].astype('int')"
   ]
  },
  {
   "cell_type": "code",
   "execution_count": 13,
   "metadata": {
    "collapsed": false
   },
   "outputs": [
    {
     "data": {
      "text/html": [
       "<div>\n",
       "<table border=\"1\" class=\"dataframe\">\n",
       "  <thead>\n",
       "    <tr style=\"text-align: right;\">\n",
       "      <th></th>\n",
       "      <th>user_id</th>\n",
       "      <th>operator_name</th>\n",
       "      <th>content_id</th>\n",
       "      <th>content_title</th>\n",
       "      <th>show_duration</th>\n",
       "    </tr>\n",
       "  </thead>\n",
       "  <tbody>\n",
       "    <tr>\n",
       "      <th>5943</th>\n",
       "      <td>603396239</td>\n",
       "      <td>Beeline Home</td>\n",
       "      <td>7029</td>\n",
       "      <td>ULU4SHAIZER</td>\n",
       "      <td>65</td>\n",
       "    </tr>\n",
       "    <tr>\n",
       "      <th>5946</th>\n",
       "      <td>985861659</td>\n",
       "      <td>Skynet Ltd</td>\n",
       "      <td>7029</td>\n",
       "      <td>ULU4SHAIZER</td>\n",
       "      <td>19</td>\n",
       "    </tr>\n",
       "    <tr>\n",
       "      <th>5947</th>\n",
       "      <td>958739701</td>\n",
       "      <td>VimpelCom</td>\n",
       "      <td>7029</td>\n",
       "      <td>ULU4SHAIZER</td>\n",
       "      <td>11</td>\n",
       "    </tr>\n",
       "  </tbody>\n",
       "</table>\n",
       "</div>"
      ],
      "text/plain": [
       "        user_id operator_name content_id content_title show_duration\n",
       "5943  603396239  Beeline Home       7029   ULU4SHAIZER            65\n",
       "5946  985861659    Skynet Ltd       7029   ULU4SHAIZER            19\n",
       "5947  958739701     VimpelCom       7029   ULU4SHAIZER            11"
      ]
     },
     "execution_count": 13,
     "metadata": {},
     "output_type": "execute_result"
    }
   ],
   "source": [
    "# другой способ получить логический срез\n",
    "df[df['content_id']==7029].head(3)\n",
    "# df[df['content_id']==7029]['content_id'] = 7029 - так тоже попробуйте"
   ]
  },
  {
   "cell_type": "code",
   "execution_count": 14,
   "metadata": {
    "collapsed": false
   },
   "outputs": [
    {
     "data": {
      "text/html": [
       "<div>\n",
       "<table border=\"1\" class=\"dataframe\">\n",
       "  <thead>\n",
       "    <tr style=\"text-align: right;\">\n",
       "      <th></th>\n",
       "      <th>user_id</th>\n",
       "      <th>operator_name</th>\n",
       "      <th>content_id</th>\n",
       "      <th>content_title</th>\n",
       "      <th>show_duration</th>\n",
       "    </tr>\n",
       "  </thead>\n",
       "  <tbody>\n",
       "    <tr>\n",
       "      <th>5943</th>\n",
       "      <td>603396239</td>\n",
       "      <td>Beeline Home</td>\n",
       "      <td>7029</td>\n",
       "      <td>ULU4SHAIZER</td>\n",
       "      <td>65</td>\n",
       "    </tr>\n",
       "    <tr>\n",
       "      <th>5961</th>\n",
       "      <td>788312739</td>\n",
       "      <td>Beeline Home</td>\n",
       "      <td>7029</td>\n",
       "      <td>ULU4SHAIZER</td>\n",
       "      <td>None</td>\n",
       "    </tr>\n",
       "    <tr>\n",
       "      <th>5967</th>\n",
       "      <td>1008874267</td>\n",
       "      <td>Beeline Home</td>\n",
       "      <td>7029</td>\n",
       "      <td>ULU4SHAIZER</td>\n",
       "      <td>126</td>\n",
       "    </tr>\n",
       "  </tbody>\n",
       "</table>\n",
       "</div>"
      ],
      "text/plain": [
       "         user_id operator_name content_id content_title show_duration\n",
       "5943   603396239  Beeline Home       7029   ULU4SHAIZER            65\n",
       "5961   788312739  Beeline Home       7029   ULU4SHAIZER          None\n",
       "5967  1008874267  Beeline Home       7029   ULU4SHAIZER           126"
      ]
     },
     "execution_count": 14,
     "metadata": {},
     "output_type": "execute_result"
    }
   ],
   "source": [
    "# можно строить срезы по нескольким условиям\n",
    "df[(df.operator_name=='Beeline Home') &\n",
    "   (df.content_title=='ULU4SHAIZER')].head(3)"
   ]
  },
  {
   "cell_type": "code",
   "execution_count": 15,
   "metadata": {
    "collapsed": false
   },
   "outputs": [
    {
     "data": {
      "text/html": [
       "<div>\n",
       "<table border=\"1\" class=\"dataframe\">\n",
       "  <thead>\n",
       "    <tr style=\"text-align: right;\">\n",
       "      <th></th>\n",
       "      <th>user_id</th>\n",
       "      <th>operator_name</th>\n",
       "      <th>content_id</th>\n",
       "      <th>content_title</th>\n",
       "      <th>show_duration</th>\n",
       "    </tr>\n",
       "  </thead>\n",
       "  <tbody>\n",
       "  </tbody>\n",
       "</table>\n",
       "</div>"
      ],
      "text/plain": [
       "Empty DataFrame\n",
       "Columns: [user_id, operator_name, content_id, content_title, show_duration]\n",
       "Index: []"
      ]
     },
     "execution_count": 15,
     "metadata": {},
     "output_type": "execute_result"
    }
   ],
   "source": [
    "# быстрый способ удалить строки - логический срез\n",
    "df = df[df['content_id']!=7029]\n",
    "df[df['content_id']==7029].head(3)"
   ]
  },
  {
   "cell_type": "markdown",
   "metadata": {},
   "source": [
    "### Агрегация данных"
   ]
  },
  {
   "cell_type": "code",
   "execution_count": 21,
   "metadata": {
    "collapsed": false
   },
   "outputs": [
    {
     "name": "stdout",
     "output_type": "stream",
     "text": [
      "show_duration    1155.735311\n",
      "dtype: float64\n",
      "show_duration    1166.653368\n",
      "dtype: float64\n"
     ]
    }
   ],
   "source": [
    "# Агрегаты можно вычислять по столбцам\n",
    "print(df[['show_duration']].mean())\n",
    "# можно добавить фильтрацию\n",
    "print(df[df[\"operator_name\"]==\"Beeline Home\"][['show_duration']].mean())"
   ]
  },
  {
   "cell_type": "code",
   "execution_count": 22,
   "metadata": {
    "collapsed": false
   },
   "outputs": [
    {
     "data": {
      "text/plain": [
       "user_id                 1010558449\n",
       "operator_name      umos Center LLC\n",
       "content_id                  191504\n",
       "content_title    Я – телохранитель\n",
       "show_duration                10184\n",
       "dtype: object"
      ]
     },
     "execution_count": 22,
     "metadata": {},
     "output_type": "execute_result"
    }
   ],
   "source": [
    "# как применить агрегирующую ко всем столбцам сразу - метод apply\n",
    "df.apply(np.max)"
   ]
  },
  {
   "cell_type": "code",
   "execution_count": 23,
   "metadata": {
    "collapsed": false
   },
   "outputs": [
    {
     "data": {
      "text/html": [
       "<div>\n",
       "<table border=\"1\" class=\"dataframe\">\n",
       "  <thead>\n",
       "    <tr style=\"text-align: right;\">\n",
       "      <th></th>\n",
       "      <th>mean</th>\n",
       "      <th>amax</th>\n",
       "      <th>amin</th>\n",
       "    </tr>\n",
       "    <tr>\n",
       "      <th>user_id</th>\n",
       "      <th></th>\n",
       "      <th></th>\n",
       "      <th></th>\n",
       "    </tr>\n",
       "  </thead>\n",
       "  <tbody>\n",
       "    <tr>\n",
       "      <th>46429</th>\n",
       "      <td>640.0</td>\n",
       "      <td>640</td>\n",
       "      <td>640</td>\n",
       "    </tr>\n",
       "    <tr>\n",
       "      <th>133989</th>\n",
       "      <td>2290.2</td>\n",
       "      <td>2874</td>\n",
       "      <td>15</td>\n",
       "    </tr>\n",
       "    <tr>\n",
       "      <th>234092</th>\n",
       "      <td>3085.0</td>\n",
       "      <td>3085</td>\n",
       "      <td>3085</td>\n",
       "    </tr>\n",
       "  </tbody>\n",
       "</table>\n",
       "</div>"
      ],
      "text/plain": [
       "           mean  amax  amin\n",
       "user_id                    \n",
       "46429     640.0   640   640\n",
       "133989   2290.2  2874    15\n",
       "234092   3085.0  3085  3085"
      ]
     },
     "execution_count": 23,
     "metadata": {},
     "output_type": "execute_result"
    }
   ],
   "source": [
    "# продвинутая агрегация, \n",
    "# синтаксис df.groupby(by=grouping_columns)[columns_to_show].agg(function())\n",
    "df.groupby(by=\"user_id\")[\"show_duration\"].agg([np.mean, np.max, np.min]).head(3)"
   ]
  },
  {
   "cell_type": "markdown",
   "metadata": {},
   "source": [
    "### Сводные таблички\n",
    "\n",
    "pd.crosstab - можно посмотреть на распределение информации в разрезе нескольких признаков"
   ]
  },
  {
   "cell_type": "code",
   "execution_count": 24,
   "metadata": {
    "collapsed": false
   },
   "outputs": [
    {
     "data": {
      "text/html": [
       "<div>\n",
       "<table border=\"1\" class=\"dataframe\">\n",
       "  <thead>\n",
       "    <tr style=\"text-align: right;\">\n",
       "      <th></th>\n",
       "      <th>user_id</th>\n",
       "      <th>operator_name</th>\n",
       "      <th>content_id</th>\n",
       "      <th>content_title</th>\n",
       "      <th>show_duration</th>\n",
       "      <th>gender</th>\n",
       "    </tr>\n",
       "  </thead>\n",
       "  <tbody>\n",
       "    <tr>\n",
       "      <th>0</th>\n",
       "      <td>827375963</td>\n",
       "      <td>Rostelecom</td>\n",
       "      <td>9966</td>\n",
       "      <td>Луна</td>\n",
       "      <td>1400</td>\n",
       "      <td>0</td>\n",
       "    </tr>\n",
       "  </tbody>\n",
       "</table>\n",
       "</div>"
      ],
      "text/plain": [
       "     user_id operator_name content_id content_title  show_duration  gender\n",
       "0  827375963    Rostelecom       9966          Луна           1400       0"
      ]
     },
     "execution_count": 24,
     "metadata": {},
     "output_type": "execute_result"
    }
   ],
   "source": [
    "# рандомно раскидываем демографические маркеры\n",
    "male_prob = 0.4\n",
    "df[\"gender\"] = np.random.binomial(1, male_prob, df.shape[0])\n",
    "df.head(1)"
   ]
  },
  {
   "cell_type": "code",
   "execution_count": 25,
   "metadata": {
    "collapsed": false
   },
   "outputs": [
    {
     "data": {
      "text/html": [
       "<div>\n",
       "<table border=\"1\" class=\"dataframe\">\n",
       "  <thead>\n",
       "    <tr style=\"text-align: right;\">\n",
       "      <th>gender</th>\n",
       "      <th>female</th>\n",
       "      <th>male</th>\n",
       "    </tr>\n",
       "    <tr>\n",
       "      <th>view_major</th>\n",
       "      <th></th>\n",
       "      <th></th>\n",
       "    </tr>\n",
       "  </thead>\n",
       "  <tbody>\n",
       "    <tr>\n",
       "      <th>no</th>\n",
       "      <td>11137</td>\n",
       "      <td>7520</td>\n",
       "    </tr>\n",
       "    <tr>\n",
       "      <th>yes</th>\n",
       "      <td>665</td>\n",
       "      <td>403</td>\n",
       "    </tr>\n",
       "  </tbody>\n",
       "</table>\n",
       "</div>"
      ],
      "text/plain": [
       "gender      female  male\n",
       "view_major              \n",
       "no           11137  7520\n",
       "yes            665   403"
      ]
     },
     "execution_count": 25,
     "metadata": {},
     "output_type": "execute_result"
    }
   ],
   "source": [
    "# основное применение apply - генерация новых фич\n",
    "simple_df = pd.DataFrame({\n",
    "    \"gender\" : df[\"gender\"].apply(lambda x: 'male' if x==1 else 'female' ),\n",
    "    \"view_major\" : df[\"content_title\"].apply(lambda x: 'yes' if x=='Мажор' else 'no' )\n",
    "})\n",
    "simple_df.head(3)\n",
    "pd.crosstab(simple_df[\"view_major\"], simple_df[\"gender\"])\n",
    "# normalize=True - посчитает в долях"
   ]
  },
  {
   "cell_type": "markdown",
   "metadata": {},
   "source": [
    "В pandas доступны сводные таблички\n",
    "\n",
    "df.pivot_table([СТРОКИ], [СТОЛБЦЫ], [ЗНАЧЕНИЯ] aggfunc='АГГРЕГИРУЮЩАЯ ФУНКЦИЯ')\n",
    "\n",
    "Для аггрегации можно использовать несколько колонок"
   ]
  },
  {
   "cell_type": "code",
   "execution_count": 26,
   "metadata": {
    "collapsed": false
   },
   "outputs": [
    {
     "data": {
      "text/html": [
       "<div>\n",
       "<table border=\"1\" class=\"dataframe\">\n",
       "  <thead>\n",
       "    <tr>\n",
       "      <th></th>\n",
       "      <th colspan=\"2\" halign=\"left\">show_duration</th>\n",
       "    </tr>\n",
       "    <tr>\n",
       "      <th>gender</th>\n",
       "      <th>0</th>\n",
       "      <th>1</th>\n",
       "    </tr>\n",
       "    <tr>\n",
       "      <th>content_title</th>\n",
       "      <th></th>\n",
       "      <th></th>\n",
       "    </tr>\n",
       "  </thead>\n",
       "  <tbody>\n",
       "    <tr>\n",
       "      <th>#SELFIEPARTY</th>\n",
       "      <td>NaN</td>\n",
       "      <td>61.0</td>\n",
       "    </tr>\n",
       "    <tr>\n",
       "      <th>+1 (Плюс один)</th>\n",
       "      <td>2220.0</td>\n",
       "      <td>NaN</td>\n",
       "    </tr>\n",
       "    <tr>\n",
       "      <th>1+1</th>\n",
       "      <td>2325.0</td>\n",
       "      <td>154.5</td>\n",
       "    </tr>\n",
       "  </tbody>\n",
       "</table>\n",
       "</div>"
      ],
      "text/plain": [
       "               show_duration       \n",
       "gender                     0      1\n",
       "content_title                      \n",
       "#SELFIEPARTY             NaN   61.0\n",
       "+1 (Плюс один)        2220.0    NaN\n",
       "1+1                   2325.0  154.5"
      ]
     },
     "execution_count": 26,
     "metadata": {},
     "output_type": "execute_result"
    }
   ],
   "source": [
    "gender_stat = pd.pivot_table(df,\n",
    "                             index=['content_title'],\n",
    "                             columns=['gender'],\n",
    "                             values=['show_duration'],\n",
    "                             aggfunc='mean')\n",
    "gender_stat.head(3)"
   ]
  },
  {
   "cell_type": "code",
   "execution_count": 27,
   "metadata": {
    "collapsed": false
   },
   "outputs": [
    {
     "data": {
      "text/html": [
       "<div>\n",
       "<table border=\"1\" class=\"dataframe\">\n",
       "  <thead>\n",
       "    <tr>\n",
       "      <th></th>\n",
       "      <th colspan=\"2\" halign=\"left\">show_duration</th>\n",
       "    </tr>\n",
       "    <tr>\n",
       "      <th>gender</th>\n",
       "      <th>0</th>\n",
       "      <th>1</th>\n",
       "    </tr>\n",
       "  </thead>\n",
       "  <tbody>\n",
       "    <tr>\n",
       "      <th>count</th>\n",
       "      <td>915.000000</td>\n",
       "      <td>771.000000</td>\n",
       "    </tr>\n",
       "    <tr>\n",
       "      <th>mean</th>\n",
       "      <td>1442.595622</td>\n",
       "      <td>1530.625566</td>\n",
       "    </tr>\n",
       "    <tr>\n",
       "      <th>std</th>\n",
       "      <td>1579.234793</td>\n",
       "      <td>1580.773474</td>\n",
       "    </tr>\n",
       "    <tr>\n",
       "      <th>min</th>\n",
       "      <td>0.000000</td>\n",
       "      <td>0.000000</td>\n",
       "    </tr>\n",
       "    <tr>\n",
       "      <th>50%</th>\n",
       "      <td>1020.000000</td>\n",
       "      <td>1154.923077</td>\n",
       "    </tr>\n",
       "    <tr>\n",
       "      <th>max</th>\n",
       "      <td>7618.000000</td>\n",
       "      <td>8575.000000</td>\n",
       "    </tr>\n",
       "  </tbody>\n",
       "</table>\n",
       "</div>"
      ],
      "text/plain": [
       "       show_duration             \n",
       "gender             0            1\n",
       "count     915.000000   771.000000\n",
       "mean     1442.595622  1530.625566\n",
       "std      1579.234793  1580.773474\n",
       "min         0.000000     0.000000\n",
       "50%      1020.000000  1154.923077\n",
       "max      7618.000000  8575.000000"
      ]
     },
     "execution_count": 27,
     "metadata": {},
     "output_type": "execute_result"
    }
   ],
   "source": [
    "# получили DataFrame\n",
    "gender_stat.describe(percentiles=[])"
   ]
  },
  {
   "cell_type": "code",
   "execution_count": 28,
   "metadata": {
    "collapsed": false
   },
   "outputs": [
    {
     "data": {
      "text/plain": [
       "MultiIndex(levels=[[u'show_duration'], [0, 1]],\n",
       "           labels=[[0, 0], [0, 1]],\n",
       "           names=[None, u'gender'])"
      ]
     },
     "execution_count": 28,
     "metadata": {},
     "output_type": "execute_result"
    }
   ],
   "source": [
    "# отсортируем - что в среднем дольше всего сморят мужчины?\n",
    "gender_stat.columns"
   ]
  },
  {
   "cell_type": "code",
   "execution_count": 29,
   "metadata": {
    "collapsed": false
   },
   "outputs": [
    {
     "data": {
      "text/html": [
       "<div>\n",
       "<table border=\"1\" class=\"dataframe\">\n",
       "  <thead>\n",
       "    <tr style=\"text-align: right;\">\n",
       "      <th>gender</th>\n",
       "      <th>0</th>\n",
       "      <th>1</th>\n",
       "    </tr>\n",
       "    <tr>\n",
       "      <th>content_title</th>\n",
       "      <th></th>\n",
       "      <th></th>\n",
       "    </tr>\n",
       "  </thead>\n",
       "  <tbody>\n",
       "    <tr>\n",
       "      <th>Куколка</th>\n",
       "      <td>7618.0</td>\n",
       "      <td>NaN</td>\n",
       "    </tr>\n",
       "  </tbody>\n",
       "</table>\n",
       "</div>"
      ],
      "text/plain": [
       "gender              0   1\n",
       "content_title            \n",
       "Куколка        7618.0 NaN"
      ]
     },
     "execution_count": 29,
     "metadata": {},
     "output_type": "execute_result"
    }
   ],
   "source": [
    "gender_stat[[u'show_duration'][0]].sort_values(by=[0], ascending=False).head(1)"
   ]
  },
  {
   "cell_type": "markdown",
   "metadata": {},
   "source": [
    "Отличие pivot_table от crosstab в том, что pivot_table применяется к DataFrame, а crosstab - к любой итерируемой последовательности."
   ]
  },
  {
   "cell_type": "markdown",
   "metadata": {},
   "source": [
    "## Визуализация данных\n",
    "\n",
    "DataFrame.plot - мощный инструмент для визуализации, позволяет строить различные графики."
   ]
  },
  {
   "cell_type": "code",
   "execution_count": 30,
   "metadata": {
    "collapsed": false
   },
   "outputs": [
    {
     "data": {
      "text/plain": [
       "<matplotlib.axes._subplots.AxesSubplot at 0x7f4086e03090>"
      ]
     },
     "execution_count": 30,
     "metadata": {},
     "output_type": "execute_result"
    },
    {
     "data": {
      "image/png": "[encoded data removed]",
      "text/plain": [
       "<matplotlib.figure.Figure at 0x7f40870719d0>"
      ]
     },
     "metadata": {},
     "output_type": "display_data"
    }
   ],
   "source": [
    "df.groupby(by=\"content_id\")[\"user_id\"]\\\n",
    "    .agg(np.count_nonzero)\\\n",
    "    .sort_values(ascending=False).head(10).plot(kind='bar')"
   ]
  },
  {
   "cell_type": "markdown",
   "metadata": {},
   "source": [
    "## SQL-style: джойны\n",
    "\n",
    "в pandas можно объединять разные DataFrame друг с другом в SQL-подобном стиле"
   ]
  },
  {
   "cell_type": "code",
   "execution_count": 31,
   "metadata": {
    "collapsed": false
   },
   "outputs": [
    {
     "name": "stdout",
     "output_type": "stream",
     "text": [
      "(19725, 2)\n",
      "(1162, 2)\n"
     ]
    }
   ],
   "source": [
    "print(df[['content_id', 'content_title']].shape)\n",
    "content_info = df[['content_id', 'content_title']].drop_duplicates()\n",
    "print(content_info.shape)\n",
    "df.drop(['content_title'],axis=1, inplace=True)\n",
    "df.head(3)\n",
    "df.to_csv('./content_watch.csv', index=False)\n",
    "df.to_csv('./content_watch.csv', index=False)"
   ]
  },
  {
   "cell_type": "code",
   "execution_count": 32,
   "metadata": {
    "collapsed": false
   },
   "outputs": [
    {
     "data": {
      "text/html": [
       "<div>\n",
       "<table border=\"1\" class=\"dataframe\">\n",
       "  <thead>\n",
       "    <tr style=\"text-align: right;\">\n",
       "      <th></th>\n",
       "      <th>user_id</th>\n",
       "      <th>operator_name</th>\n",
       "      <th>content_id</th>\n",
       "      <th>show_duration</th>\n",
       "      <th>gender</th>\n",
       "      <th>content_title</th>\n",
       "    </tr>\n",
       "  </thead>\n",
       "  <tbody>\n",
       "    <tr>\n",
       "      <th>0</th>\n",
       "      <td>827375963</td>\n",
       "      <td>Rostelecom</td>\n",
       "      <td>9966</td>\n",
       "      <td>1400</td>\n",
       "      <td>0</td>\n",
       "      <td>Луна</td>\n",
       "    </tr>\n",
       "    <tr>\n",
       "      <th>1</th>\n",
       "      <td>895242481</td>\n",
       "      <td>Miranda-Media Ltd</td>\n",
       "      <td>9966</td>\n",
       "      <td>480</td>\n",
       "      <td>0</td>\n",
       "      <td>Луна</td>\n",
       "    </tr>\n",
       "    <tr>\n",
       "      <th>2</th>\n",
       "      <td>985001802</td>\n",
       "      <td>Rostelecom</td>\n",
       "      <td>9966</td>\n",
       "      <td>2760</td>\n",
       "      <td>0</td>\n",
       "      <td>Луна</td>\n",
       "    </tr>\n",
       "    <tr>\n",
       "      <th>3</th>\n",
       "      <td>857782037</td>\n",
       "      <td>Beeline Home</td>\n",
       "      <td>9966</td>\n",
       "      <td>2500</td>\n",
       "      <td>0</td>\n",
       "      <td>Луна</td>\n",
       "    </tr>\n",
       "    <tr>\n",
       "      <th>4</th>\n",
       "      <td>882781892</td>\n",
       "      <td>MTS OJSC</td>\n",
       "      <td>9966</td>\n",
       "      <td>720</td>\n",
       "      <td>0</td>\n",
       "      <td>Луна</td>\n",
       "    </tr>\n",
       "  </tbody>\n",
       "</table>\n",
       "</div>"
      ],
      "text/plain": [
       "     user_id      operator_name content_id  show_duration  gender  \\\n",
       "0  827375963         Rostelecom       9966           1400       0   \n",
       "1  895242481  Miranda-Media Ltd       9966            480       0   \n",
       "2  985001802         Rostelecom       9966           2760       0   \n",
       "3  857782037       Beeline Home       9966           2500       0   \n",
       "4  882781892           MTS OJSC       9966            720       0   \n",
       "\n",
       "  content_title  \n",
       "0          Луна  \n",
       "1          Луна  \n",
       "2          Луна  \n",
       "3          Луна  \n",
       "4          Луна  "
      ]
     },
     "execution_count": 32,
     "metadata": {},
     "output_type": "execute_result"
    }
   ],
   "source": [
    "df.merge(content_info,\n",
    "         how='inner',\n",
    "         left_on='content_id',\n",
    "         right_on='content_id').head(5)\n",
    "# pd.concat - работает аналогично"
   ]
  },
  {
   "cell_type": "markdown",
   "metadata": {},
   "source": [
    "# Домашнее задание\n",
    "\n",
    "## Разминочная часть"
   ]
  },
  {
   "cell_type": "raw",
   "metadata": {},
   "source": [
    "Какой фильм был просмотрен максимальным количеством человек?\n",
    "Какой пользователь посмотрел больше всех фильмов?"
   ]
  },
  {
   "cell_type": "code",
   "execution_count": 38,
   "metadata": {
    "collapsed": false
   },
   "outputs": [
    {
     "name": "stdout",
     "output_type": "stream",
     "text": [
      "content_id\n",
      "7305    1972\n",
      "Name: user_id, dtype: int64\n",
      "user_id\n",
      "547441836    66\n",
      "Name: content_id, dtype: int64\n"
     ]
    }
   ],
   "source": [
    "# Ваш код здесь\n",
    "# Фильм, который смотрели больше всего\n",
    "print(df.groupby('content_id')['user_id'].agg('count').sort_values(ascending=False).head(1))\n",
    "# Самый активный пользователь\n",
    "print(df.groupby('user_id')['content_id'].agg('count').sort_values(ascending=False).head(1))"
   ]
  },
  {
   "cell_type": "markdown",
   "metadata": {},
   "source": [
    "У какого оператора больше всего пользователей?\n"
   ]
  },
  {
   "cell_type": "code",
   "execution_count": 45,
   "metadata": {
    "collapsed": false
   },
   "outputs": [
    {
     "data": {
      "text/plain": [
       "operator_name\n",
       "Rostelecom    2202\n",
       "Name: user_id, dtype: int64"
      ]
     },
     "execution_count": 45,
     "metadata": {},
     "output_type": "execute_result"
    }
   ],
   "source": [
    "# Ваш код здесь\n",
    "# Мы считаем только уников\n",
    "df.groupby('operator_name')['user_id'].unique().apply(len).sort_values(ascending=False).head(1)"
   ]
  },
  {
   "cell_type": "markdown",
   "metadata": {},
   "source": [
    "Постройте любую визуализацию с помощью метода plot"
   ]
  },
  {
   "cell_type": "code",
   "execution_count": 49,
   "metadata": {
    "collapsed": false
   },
   "outputs": [
    {
     "data": {
      "text/plain": [
       "<matplotlib.axes._subplots.AxesSubplot at 0x7f4086833dd0>"
      ]
     },
     "execution_count": 49,
     "metadata": {},
     "output_type": "execute_result"
    },
    {
     "data": {
      "image/png": "[encoded data removed]",
      "text/plain": [
       "<matplotlib.figure.Figure at 0x7f4086732510>"
      ]
     },
     "metadata": {},
     "output_type": "display_data"
    }
   ],
   "source": [
    "# Ваш код здесь\n",
    "df.groupby('operator_name')['user_id'] \\\n",
    "        .unique().apply(len) \\\n",
    "        .sort_values(ascending=False) \\\n",
    "        .head(10) \\\n",
    "        .plot(kind='bar', title='TOP-10 frequently operators')"
   ]
  },
  {
   "cell_type": "markdown",
   "metadata": {},
   "source": [
    "Какой средний показатель по числу просмотренных фильмов среди мужчин - пользователе Ростелекома?"
   ]
  },
  {
   "cell_type": "code",
   "execution_count": 56,
   "metadata": {
    "collapsed": false
   },
   "outputs": [
    {
     "data": {
      "text/plain": [
       "1.6928746928746929"
      ]
     },
     "execution_count": 56,
     "metadata": {},
     "output_type": "execute_result"
    }
   ],
   "source": [
    "# Ваш код здесь\n",
    "df[(df[\"gender\"]==1) & (df[\"operator_name\"]=='Rostelecom') ] \\\n",
    "    .groupby(\"user_id\")['content_id'] \\\n",
    "    .agg('count') \\\n",
    "    .mean()"
   ]
  },
  {
   "cell_type": "markdown",
   "metadata": {},
   "source": [
    "Построить по данным файла content_watch.csv матрицу user-item\n",
    "\n",
    "В матрице должно быть 3 столбца\n",
    "\n",
    "Первый столбец - user_id\n",
    "\n",
    "Второй столбец - list из content_id, которые смотрел user_id. Оставлять нужно только уникальные id контента - повторов быть не должно\n"
   ]
  },
  {
   "cell_type": "code",
   "execution_count": 59,
   "metadata": {
    "collapsed": false
   },
   "outputs": [
    {
     "data": {
      "text/plain": [
       "user_id\n",
       "46429             [11047]\n",
       "133989            [11047]\n",
       "234092            [10183]\n",
       "535270             [9983]\n",
       "540203             [8706]\n",
       "581108            [10264]\n",
       "632946             [9399]\n",
       "670379           [147689]\n",
       "754532             [9572]\n",
       "853810           [186575]\n",
       "1442656            [8706]\n",
       "1526841           [10112]\n",
       "1642252           [11047]\n",
       "2124075           [11047]\n",
       "2585092            [7097]\n",
       "3284229            [9225]\n",
       "3391921           [10112]\n",
       "3488349            [7097]\n",
       "4008570           [10140]\n",
       "4031912    [10022, 10275]\n",
       "Name: content_id, dtype: object"
      ]
     },
     "execution_count": 59,
     "metadata": {},
     "output_type": "execute_result"
    }
   ],
   "source": [
    "# Ваш код здесь\n",
    "df.groupby('user_id')['content_id'].unique().head(20)"
   ]
  }
 ],
 "metadata": {
  "anaconda-cloud": {},
  "kernelspec": {
   "display_name": "Python 2",
   "language": "python",
   "name": "python2"
  },
  "language_info": {
   "codemirror_mode": {
    "name": "ipython",
    "version": 2
   },
   "file_extension": ".py",
   "mimetype": "text/x-python",
   "name": "python",
   "nbconvert_exporter": "python",
   "pygments_lexer": "ipython2",
   "version": "2.7.12"
  }
 },
 "nbformat": 4,
 "nbformat_minor": 1
}
